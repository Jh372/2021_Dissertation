{
 "cells": [
  {
   "cell_type": "code",
   "execution_count": 67,
   "id": "aware-cookie",
   "metadata": {},
   "outputs": [],
   "source": [
    "#convert pdf to png\n",
    "import os\n",
    "from pathlib import Path\n",
    "from pdf2image import convert_from_path\n",
    "import glob"
   ]
  },
  {
   "cell_type": "code",
   "execution_count": 6,
   "id": "engaging-environment",
   "metadata": {},
   "outputs": [],
   "source": [
    "for x in glob.glob('./pdf_file/*.pdf'):\n",
    "    pdf_path = Path(x)\n",
    "    \n",
    "    #convert pdf to png\n",
    "    pages = convert_from_path(str(pdf_path), dpi=300)\n",
    "    \n",
    "    #save image per page\n",
    "    image_dir = Path('./image_file')\n",
    "    for i, page in enumerate(pages):\n",
    "        file_name = pdf_path.stem + '_{:02d}'.format(i + 1) + '.png'\n",
    "        image_path = image_dir / file_name\n",
    "        #save png\n",
    "        page.save(str(image_path), 'PNG')"
   ]
  },
  {
   "cell_type": "code",
   "execution_count": 27,
   "id": "ceramic-geometry",
   "metadata": {
    "scrolled": true
   },
   "outputs": [
    {
     "data": {
      "text/plain": [
       "True"
      ]
     },
     "execution_count": 27,
     "metadata": {},
     "output_type": "execute_result"
    }
   ],
   "source": [
    "#read image\n",
    "img = cv2.imread('./image_file/heft1pg01-15 2021-06-04 08_48_40_12.png',0)\n",
    "\n",
    "#convert grayscale\n",
    "#gray = cv2.cvtColor(img, cv2.COLOR_RGB2GRAY)\n",
    "\n",
    "################################################\n",
    "#set threshold\n",
    "#threshold_value = 150\n",
    "\n",
    "#create array for output\n",
    "#threshold_img =gray.copy()\n",
    "\n",
    "#implement(numpy)\n",
    "#threshold_img[gray < threshold_value] = 0\n",
    "#threshold_img[gray >= threshold_value] = 255\n",
    "#################################################\n",
    "\n",
    "ret,th1 = cv2.threshold(img,0,255,cv2.THRESH_BINARY+cv2.THRESH_OTSU)\n",
    "\n",
    "blur = cv2.GaussianBlur(img,(5,5),0)\n",
    "ret2,th2 = cv2.threshold(blur,0,255,cv2.THRESH_BINARY+cv2.THRESH_OTSU)\n",
    "#output\n",
    "cv2.imwrite('./test/sample2.png', th1)\n",
    "#cv2.imwrite('./test/shade2.png',th2)\n",
    "\n",
    "#print(gray.shape)"
   ]
  },
  {
   "cell_type": "code",
   "execution_count": 40,
   "id": "certain-latex",
   "metadata": {},
   "outputs": [],
   "source": [
    "import cv2\n",
    "import numpy as np\n",
    "\n",
    "for i in range(10):\n",
    "    im1 = cv2.imread('./test/crop/shading'+str(i+1)+'.png')\n",
    "    im_h_np = np.tile(im1,(1,25,1))\n",
    "    cv2.imwrite('./test/crop/m_shading'+str(i+1)+'.png',im_h_np)\n"
   ]
  },
  {
   "cell_type": "code",
   "execution_count": 3,
   "id": "equal-bunny",
   "metadata": {},
   "outputs": [],
   "source": [
    "import cv2\n",
    "import numpy as np\n",
    "\n",
    "for j in range(20):\n",
    "    test = cv2.imread('./test/crop/test'+str(j+1)+'.png')\n",
    "    inv1 = cv2.bitwise_not(test)\n",
    "    gray1 =cv2.cvtColor(inv1, cv2.COLOR_RGB2GRAY)\n",
    "    for k in range(10):\n",
    "        shade = cv2.imread('./test/crop/m_shading'+str(k+1)+'.png')\n",
    "        if (j+1) == 1:\n",
    "            shade = shade[0:140,0:930]\n",
    "        elif (j+1) == 2:\n",
    "            shade = shade[0:140,0:706]\n",
    "        elif (j+1) == 3:\n",
    "            shade = shade[0:140,0:1068]\n",
    "        elif (j+1) == 4:\n",
    "            shade = shade[0:140,0:1068]\n",
    "        elif (j+1) == 5:\n",
    "            shade = shade[0:140,0:1375]\n",
    "        elif (j+1) == 6:\n",
    "            shade = shade[0:140,0:1544]\n",
    "        elif (j+1) == 7:\n",
    "            shade = shade[0:140,0:1605]\n",
    "        elif (j+1) == 8:\n",
    "            shade = shade[0:140,0:1441]\n",
    "        elif (j+1) == 9:\n",
    "            shade = shade[0:140,0:1218]\n",
    "        elif (j+1) == 10:\n",
    "            shade = shade[0:140,0:859]\n",
    "        elif (j+1) == 11:\n",
    "            shade = shade[0:140,0:408]\n",
    "        elif (j+1) == 12:\n",
    "            shade = shade[0:140,0:1434]\n",
    "        elif (j+1) == 13:\n",
    "            shade = shade[0:140,0:1216]\n",
    "        elif (j+1) == 14:\n",
    "            shade = shade[0:140,0:1519]\n",
    "        elif (j+1) == 15:\n",
    "            shade = shade[0:140,0:1621]\n",
    "        elif (j+1) == 16:\n",
    "            shade = shade[0:140,0:493]\n",
    "        elif (j+1) == 17:\n",
    "            shade = shade[0:140,0:662]\n",
    "        elif (j+1) == 18:\n",
    "            shade = shade[0:140,0:578]\n",
    "        elif (j+1) == 19:\n",
    "            shade = shade[0:140,0:1192]\n",
    "        else:\n",
    "            shade = shade[0:140,0:975]\n",
    "        cv2.imwrite('./test/output/data'+str((j*10)+k+1)+'text.png',np.array(test))\n",
    "        cv2.imwrite('./test/output/data'+str((j*10)+k+1)+'shading.png',np.array(shade))\n",
    "#        cv2.imwrite('./test/crop/shadingblock'+str((j*10)+k+1)+'.png',np.array(shade))\n",
    "        inv2 = cv2.bitwise_not(shade)\n",
    "        gray2 =cv2.cvtColor(inv2, cv2.COLOR_RGB2GRAY)\n",
    "        result = cv2.add(gray1,gray2)\n",
    "        result = cv2.bitwise_not(result)\n",
    "#        cv2.imwrite('./test/output/result'+str((j*10)+k+1)+'.png',np.array(result))\n",
    "        cv2.imwrite('./test/output/data'+str((j*10)+k+1)+'combined.png',np.array(result))\n",
    "\n",
    "\n",
    "\n",
    "#img = cv2.imread('./test/test3.png')\n",
    "#inv1 = cv2.bitwise_not(img)\n",
    "#cv2.imwrite('symbol.png',np.array(inv1))\n",
    "\n",
    "#shade = cv2.imread('./test/copyshading1.png')\n",
    "#inv2 = cv2.bitwise_not(shade)\n",
    "##cv2.imwrite('shade.png',np.array(inv2))\n",
    "\n",
    "#gray1 =cv2.cvtColor(inv1, cv2.COLOR_RGB2GRAY)\n",
    "#gray2 =cv2.cvtColor(inv2, cv2.COLOR_RGB2GRAY)\n",
    "#gray2 = gray2[5:132,0:1063]\n",
    "\n",
    "#result = cv2.add(gray1,gray2)\n",
    "#cv2.imwrite('result1.png',np.array(result))\n",
    "#result = cv2.bitwise_not(result)\n",
    "#cv2.imwrite('result.png',np.array(result))"
   ]
  },
  {
   "cell_type": "code",
   "execution_count": 74,
   "id": "vertical-sunglasses",
   "metadata": {},
   "outputs": [],
   "source": [
    "#from PIL import Image, ImageOps\n",
    "#result = Image.open('./test/test3.png').convert('RGB')\n",
    "#shade = Image.open('./test/copyshading1.png').convert('RGB')\n",
    "#shade = shade.crop((0,5,1064,132))\n",
    "#shade =ImageOps.invert(shade)\n",
    "#shade.save('./test/cropshade.png')\n",
    "#result =ImageOps.invert(result)\n",
    "#result.paste(shade,(0,0),shade)\n",
    "#result.save('./test/output.png')"
   ]
  },
  {
   "cell_type": "code",
   "execution_count": 1,
   "id": "amazing-highlight",
   "metadata": {},
   "outputs": [],
   "source": [
    "#convert png to binarisation\n",
    "import cv2\n",
    "import numpy as np"
   ]
  },
  {
   "cell_type": "code",
   "execution_count": 2,
   "id": "compact-center",
   "metadata": {},
   "outputs": [
    {
     "name": "stderr",
     "output_type": "stream",
     "text": [
      "Matplotlib is building the font cache; this may take a moment.\n"
     ]
    },
    {
     "ename": "AttributeError",
     "evalue": "'NoneType' object has no attribute 'copy'",
     "output_type": "error",
     "traceback": [
      "\u001b[0;31m---------------------------------------------------------------------------\u001b[0m",
      "\u001b[0;31mAttributeError\u001b[0m                            Traceback (most recent call last)",
      "\u001b[0;32m<ipython-input-2-4c346f43ee94>\u001b[0m in \u001b[0;36m<module>\u001b[0;34m\u001b[0m\n\u001b[1;32m     93\u001b[0m \u001b[0;34m\u001b[0m\u001b[0m\n\u001b[1;32m     94\u001b[0m \u001b[0;32mif\u001b[0m \u001b[0m__name__\u001b[0m \u001b[0;34m==\u001b[0m \u001b[0;34m\"__main__\"\u001b[0m\u001b[0;34m:\u001b[0m\u001b[0;34m\u001b[0m\u001b[0;34m\u001b[0m\u001b[0m\n\u001b[0;32m---> 95\u001b[0;31m     \u001b[0mmain\u001b[0m\u001b[0;34m(\u001b[0m\u001b[0;34m)\u001b[0m\u001b[0;34m\u001b[0m\u001b[0;34m\u001b[0m\u001b[0m\n\u001b[0m",
      "\u001b[0;32m<ipython-input-2-4c346f43ee94>\u001b[0m in \u001b[0;36mmain\u001b[0;34m()\u001b[0m\n\u001b[1;32m     53\u001b[0m \u001b[0;34m\u001b[0m\u001b[0m\n\u001b[1;32m     54\u001b[0m     \u001b[0mimg\u001b[0m \u001b[0;34m=\u001b[0m \u001b[0mcv2\u001b[0m\u001b[0;34m.\u001b[0m\u001b[0mimread\u001b[0m\u001b[0;34m(\u001b[0m\u001b[0msys\u001b[0m\u001b[0;34m.\u001b[0m\u001b[0margv\u001b[0m\u001b[0;34m[\u001b[0m\u001b[0;36m1\u001b[0m\u001b[0;34m]\u001b[0m\u001b[0;34m,\u001b[0m\u001b[0;36m1\u001b[0m\u001b[0;34m)\u001b[0m  \u001b[0;31m# 画像の読み込み\u001b[0m\u001b[0;34m\u001b[0m\u001b[0;34m\u001b[0m\u001b[0m\n\u001b[0;32m---> 55\u001b[0;31m     \u001b[0mtemp\u001b[0m \u001b[0;34m=\u001b[0m \u001b[0mimg\u001b[0m\u001b[0;34m.\u001b[0m\u001b[0mcopy\u001b[0m\u001b[0;34m(\u001b[0m\u001b[0;34m)\u001b[0m                \u001b[0;31m# 画像コピー\u001b[0m\u001b[0;34m\u001b[0m\u001b[0;34m\u001b[0m\u001b[0m\n\u001b[0m\u001b[1;32m     56\u001b[0m \u001b[0;34m\u001b[0m\u001b[0m\n\u001b[1;32m     57\u001b[0m     \u001b[0mcv2\u001b[0m\u001b[0;34m.\u001b[0m\u001b[0mnamedWindow\u001b[0m\u001b[0;34m(\u001b[0m\u001b[0msource_window\u001b[0m\u001b[0;34m)\u001b[0m\u001b[0;34m\u001b[0m\u001b[0;34m\u001b[0m\u001b[0m\n",
      "\u001b[0;31mAttributeError\u001b[0m: 'NoneType' object has no attribute 'copy'"
     ]
    }
   ],
   "source": [
    "import sys\n",
    "import numpy as np\n",
    "import cv2\n",
    "from matplotlib import pyplot as plt\n",
    " \n",
    " \n",
    "# グローーバル変数\n",
    "drawing = False\n",
    "complete_region = False\n",
    "ix,iy,width,height = -1,-1,0,0\n",
    "box = [ix, iy, width, height]\n",
    " \n",
    " \n",
    "# マウスコールバック関数\n",
    "def my_mouse_callback(event,x,y,flags,param):\n",
    "    global ix,iy,width,height,box,drawing,complete_region\n",
    " \n",
    "    if event == cv2.EVENT_MOUSEMOVE:      # マウスが動いた時\n",
    "        if(drawing == True):\n",
    "            width = x - ix\n",
    "            height = y - iy\n",
    " \n",
    "    elif event == cv2.EVENT_LBUTTONDOWN:  # マウス左押された時\n",
    "        drawing = True\n",
    " \n",
    "        ix = x\n",
    "        iy = y\n",
    "        width = 0\n",
    "        height = 0\n",
    " \n",
    "    elif event == cv2.EVENT_LBUTTONUP:    # マウス左離された時\n",
    "        drawing = False\n",
    "        complete_region = True\n",
    " \n",
    "        if(width < 0):\n",
    "            ix += width\n",
    "            width *= -1\n",
    "        if(height < 0):\n",
    "           iy += height\n",
    "           height *= -1\n",
    " \n",
    "    box = [ix, iy, width, height]         # 切り取り範囲格納\n",
    " \n",
    " \n",
    " \n",
    " \n",
    "# メイン関数\n",
    "def main():\n",
    "    global ix,iy,width,height,box,drawing,complete_region\n",
    " \n",
    "    source_window = \"draw_rectangle\"\n",
    "    roi_window = \"region_of_image\"\n",
    " \n",
    "    img = cv2.imread(sys.argv[1],1)  # 画像の読み込み\n",
    "    temp = img.copy()                # 画像コピー\n",
    " \n",
    "    cv2.namedWindow(source_window)\n",
    "    cv2.setMouseCallback(source_window, my_mouse_callback)\n",
    " \n",
    "    while(1):\n",
    "        cv2.imshow(source_window,temp)\n",
    " \n",
    "        if(drawing):             # 左クリック押されてたら\n",
    "            temp = img.copy()    # 画像コピー\n",
    "            cv2.rectangle(temp,(ix,iy),(ix + width, iy+ height),(0,255,0),2)  # 矩形を描画\n",
    " \n",
    "        if(complete_region): # 矩形の選択が終了したら\n",
    "            complete_region = False\n",
    " \n",
    "            roi = img[iy:iy+height, ix:ix+width] # 元画像から選択範囲を切り取り\n",
    "            cv2.imshow(roi_window, roi)          # 切り取り画像表示\n",
    " \n",
    "            # ヒストグラム作成\n",
    "            color = ('b','g','r')\n",
    "            for i,col in enumerate(color):\n",
    "                histr = cv2.calcHist([roi],[i],None,[256],[0,256])\n",
    "                plt.plot(histr,color = col)\n",
    "                plt.xlim([0,256])\n",
    "            plt.show(block=False)\n",
    " \n",
    "        # キー操作\n",
    "        k = cv2.waitKey(1) & 0xFF\n",
    "        if k == 27:          # esc押されたら終了\n",
    "            break\n",
    "        elif k ==ord('s'):   # 's'押されたら画像を保存\n",
    "            cv2.imwrite('roi.png', roi)\n",
    "            cv2.imwrite('draw_src.png', temp)\n",
    "            plt.savefig('histgram.png')\n",
    " \n",
    "    cv2.destroyAllWindows()\n",
    " \n",
    " \n",
    " \n",
    "if __name__ == \"__main__\":\n",
    "    main()"
   ]
  },
  {
   "cell_type": "code",
   "execution_count": 1,
   "id": "grateful-working",
   "metadata": {},
   "outputs": [
    {
     "ename": "ModuleNotFoundError",
     "evalue": "No module named 'tkinter'",
     "output_type": "error",
     "traceback": [
      "\u001b[0;31m---------------------------------------------------------------------------\u001b[0m",
      "\u001b[0;31mModuleNotFoundError\u001b[0m                       Traceback (most recent call last)",
      "\u001b[0;32m<ipython-input-1-00e2d28a4315>\u001b[0m in \u001b[0;36m<module>\u001b[0;34m\u001b[0m\n\u001b[0;32m----> 1\u001b[0;31m \u001b[0;32mimport\u001b[0m \u001b[0mtkinter\u001b[0m\u001b[0;34m\u001b[0m\u001b[0;34m\u001b[0m\u001b[0m\n\u001b[0m\u001b[1;32m      2\u001b[0m \u001b[0;32mimport\u001b[0m \u001b[0mtime\u001b[0m\u001b[0;34m\u001b[0m\u001b[0;34m\u001b[0m\u001b[0m\n\u001b[1;32m      3\u001b[0m \u001b[0;32mimport\u001b[0m \u001b[0mpyautogui\u001b[0m  \u001b[0;31m# 外部ライブラリ\u001b[0m\u001b[0;34m\u001b[0m\u001b[0;34m\u001b[0m\u001b[0m\n\u001b[1;32m      4\u001b[0m \u001b[0;32mfrom\u001b[0m \u001b[0mPIL\u001b[0m \u001b[0;32mimport\u001b[0m \u001b[0mImage\u001b[0m\u001b[0;34m,\u001b[0m \u001b[0mImageTk\u001b[0m  \u001b[0;31m# 外部ライブラリ\u001b[0m\u001b[0;34m\u001b[0m\u001b[0;34m\u001b[0m\u001b[0m\n\u001b[1;32m      5\u001b[0m \u001b[0;34m\u001b[0m\u001b[0m\n",
      "\u001b[0;31mModuleNotFoundError\u001b[0m: No module named 'tkinter'"
     ]
    }
   ],
   "source": [
    "import tkinter\n",
    "import time\n",
    "import pyautogui  # 外部ライブラリ\n",
    "from PIL import Image, ImageTk  # 外部ライブラリ\n",
    "\n",
    "RESIZE_RETIO = 2 # 縮小倍率の規定\n",
    "\n",
    "# ドラッグ開始した時のイベント - - - - - - - - - - - - - - - - - - - - - - - - - - \n",
    "def start_point_get(event):\n",
    "    global start_x, start_y # グローバル変数に書き込みを行なうため宣言\n",
    "\n",
    "    canvas1.delete(\"rect1\")  # すでに\"rect1\"タグの図形があれば削除\n",
    "\n",
    "    # canvas1上に四角形を描画（rectangleは矩形の意味）\n",
    "    canvas1.create_rectangle(event.x,\n",
    "                             event.y,\n",
    "                             event.x + 1,\n",
    "                             event.y + 1,\n",
    "                             outline=\"red\",\n",
    "                             tag=\"rect1\")\n",
    "    # グローバル変数に座標を格納\n",
    "    start_x, start_y = event.x, event.y\n",
    "\n",
    "# ドラッグ中のイベント - - - - - - - - - - - - - - - - - - - - - - - - - - \n",
    "def rect_drawing(event):\n",
    "\n",
    "    # ドラッグ中のマウスポインタが領域外に出た時の処理\n",
    "    if event.x < 0:\n",
    "        end_x = 0\n",
    "    else:\n",
    "        end_x = min(img_resized.width, event.x)\n",
    "    if event.y < 0:\n",
    "        end_y = 0\n",
    "    else:\n",
    "        end_y = min(img_resized.height, event.y)\n",
    "\n",
    "    # \"rect1\"タグの画像を再描画\n",
    "    canvas1.coords(\"rect1\", start_x, start_y, end_x, end_y)\n",
    "\n",
    "# ドラッグを離したときのイベント - - - - - - - - - - - - - - - - - - - - - - - - - - \n",
    "def release_action(event):\n",
    "\n",
    "    # \"rect1\"タグの画像の座標を元の縮尺に戻して取得\n",
    "    start_x, start_y, end_x, end_y = [\n",
    "        round(n * RESIZE_RETIO) for n in canvas1.coords(\"rect1\")\n",
    "    ]\n",
    "\n",
    "    # 取得した座標を表示\n",
    "    pyautogui.alert(\"start_x : \" + str(start_x) + \"\\n\" + \"start_y : \" +\n",
    "                    str(start_y) + \"\\n\" + \"end_x : \" + str(end_x) + \"\\n\" +\n",
    "                    \"end_y : \" + str(end_y))\n",
    "\n",
    "# メイン処理 - - - - - - - - - - - - - - - - - - - - - - - - - - - - - - - - - - - - - \n",
    "if __name__ == \"__main__\":\n",
    "\n",
    "    # 表示する画像の取得（スクリーンショット）\n",
    "    img = pyautogui.screenshot()\n",
    "    # スクリーンショットした画像は表示しきれないので画像リサイズ\n",
    "    img_resized = img.resize(size=(int(img.width / RESIZE_RETIO),\n",
    "                                   int(img.height / RESIZE_RETIO)),\n",
    "                             resample=Image.BILINEAR)\n",
    "\n",
    "    root = tkinter.Tk()\n",
    "    root.attributes(\"-topmost\", True) # tkinterウィンドウを常に最前面に表示\n",
    "\n",
    "    # tkinterで表示できるように画像変換\n",
    "    img_tk = ImageTk.PhotoImage(img_resized)\n",
    "\n",
    "    # Canvasウィジェットの描画\n",
    "    canvas1 = tkinter.Canvas(root,\n",
    "                             bg=\"black\",\n",
    "                             width=img_resized.width,\n",
    "                             height=img_resized.height)\n",
    "    # Canvasウィジェットに取得した画像を描画\n",
    "    canvas1.create_image(0, 0, image=img_tk, anchor=tkinter.NW)\n",
    "\n",
    "    # Canvasウィジェットを配置し、各種イベントを設定\n",
    "    canvas1.pack()\n",
    "    canvas1.bind(\"<ButtonPress-1>\", start_point_get)\n",
    "    canvas1.bind(\"<Button1-Motion>\", rect_drawing)\n",
    "    canvas1.bind(\"<ButtonRelease-1>\", release_action)\n",
    "\n",
    "    root.mainloop()\n"
   ]
  },
  {
   "cell_type": "code",
   "execution_count": 25,
   "id": "virtual-turning",
   "metadata": {},
   "outputs": [
    {
     "data": {
      "text/plain": [
       "True"
      ]
     },
     "execution_count": 25,
     "metadata": {},
     "output_type": "execute_result"
    }
   ],
   "source": [
    "img_test =cv2.imread('./image_file/heft1pg01-15 2021-06-04 08_48_40_04.png')\n",
    "gray = cv2.cvtColor(img_test, cv2.COLOR_RGB2GRAY)\n",
    "#edges = cv2.Canny(gray,50,250,apertureSize = 3)\n",
    "lines =cv2.HoughLines(gray,1,np.pi/180,200)\n",
    "for rho,theta in lines[0]:\n",
    "    a = np.cos(theta)\n",
    "    b = np.sin(theta)\n",
    "    x0 = a*rho\n",
    "    y0 = b*rho\n",
    "    x1 = int(x0 + 1000*(-b))\n",
    "    y1 = int(y0 + 1000*(a))\n",
    "    x2 = int(x0 + 1000*(-b))\n",
    "    y2 = int(y0 + 1000*(a))\n",
    "    \n",
    "    cv2.line(img,(x1,y1),(x2,y2),(0,0,255),2)\n",
    "\n",
    "cv2.imwrite('./test/smaple_hough.png',img_test)\n",
    "    "
   ]
  },
  {
   "cell_type": "code",
   "execution_count": 20,
   "id": "decent-trustee",
   "metadata": {},
   "outputs": [
    {
     "data": {
      "text/plain": [
       "True"
      ]
     },
     "execution_count": 20,
     "metadata": {},
     "output_type": "execute_result"
    }
   ],
   "source": [
    "contours, hierarchy = cv2.findContours(threshold_img, cv2.RETR_LIST, cv2.CHAIN_APPROX_SIMPLE)\n",
    "for i in range(0, len(contours)):\n",
    "    if cv2.contourArea(contours[i]) < 500 :\n",
    "        continue\n",
    "        \n",
    "    rect = contours[i]\n",
    "    x, y, w, h = cv2.boundingRect(rect)\n",
    "    cv2.rectangle(img, (x,y),(x+w, y+h),(0,0,0), 1)\n",
    "cv2.imwrite('./test/sample_boundingbox.png',img)"
   ]
  },
  {
   "cell_type": "code",
   "execution_count": 19,
   "id": "increased-steering",
   "metadata": {},
   "outputs": [
    {
     "data": {
      "text/plain": [
       "array([[[-1, -1, -1, -1]]], dtype=int32)"
      ]
     },
     "execution_count": 19,
     "metadata": {},
     "output_type": "execute_result"
    }
   ],
   "source": [
    "hierarchy"
   ]
  },
  {
   "cell_type": "code",
   "execution_count": null,
   "id": "happy-startup",
   "metadata": {},
   "outputs": [],
   "source": [
    "ret,binary = cv2.threshold(gray, 50, 255, cv2.THRESH_BINARY)\n",
    "contours = cv2.findContours(binary, cv2.RETR_EXTERNAL, cv2.CHAIN_APPROX_SIMPLE)[0]\n",
    "cnt = max(contours, key=lambda x:cv2.contourArea(x))\n",
    "x,y, width, height = cv2.boundingRect(cnt)\n",
    "roi =img[]"
   ]
  },
  {
   "cell_type": "code",
   "execution_count": null,
   "id": "proof-behavior",
   "metadata": {},
   "outputs": [],
   "source": []
  },
  {
   "cell_type": "code",
   "execution_count": 98,
   "id": "renewable-exemption",
   "metadata": {},
   "outputs": [
    {
     "data": {
      "text/plain": [
       "<function destroyAllWindows>"
      ]
     },
     "execution_count": 98,
     "metadata": {},
     "output_type": "execute_result"
    }
   ],
   "source": [
    "init_w = 400\n",
    "init_h = 400\n",
    "crop_w = 2080\n",
    "crop_h = 160\n",
    "\n",
    "img_bin = cv2.imread('./test/sample.png',cv2.IMREAD_GRAYSCALE)\n",
    "end = (img_bin.shape[0]-400)//150\n",
    "for i in range(end):\n",
    "    if img_bin_crop.size == 0:\n",
    "        img_bin_crop = img[init_h+crop_h*i:y+crop_h*(i+1), init_w:crop_w]\n",
    "        cv2.imwrite('./test/out_sample{0}.png'.format(i), img_bin_crop)\n",
    "cv2.waitKey(0)\n",
    "cv2.destroyAllWindows"
   ]
  },
  {
   "cell_type": "code",
   "execution_count": 60,
   "id": "formed-television",
   "metadata": {},
   "outputs": [],
   "source": [
    "def trim(img, x, y, width, height):\n",
    "    return img[y:y+height, x:x+width]"
   ]
  },
  {
   "cell_type": "code",
   "execution_count": 64,
   "id": "authorized-tennessee",
   "metadata": {},
   "outputs": [
    {
     "name": "stdout",
     "output_type": "stream",
     "text": [
      "(3280, 2272)\n",
      "<class 'tuple'>\n",
      "[[255 255 255 ... 255 255 255]\n",
      " [255 255 255 ... 255 255 255]\n",
      " [255 255 255 ... 255 255 255]\n",
      " ...\n",
      " [255 255 255 ... 255 255 255]\n",
      " [255 255 255 ... 255 255 255]\n",
      " [255 255 255 ... 255 255 255]]\n"
     ]
    }
   ],
   "source": [
    "#get information image size\n",
    "print(img_bin.shape)\n",
    "print(type(img_bin.shape))\n",
    "#(3280, 2272)\n",
    "#<class 'tuple'>\n",
    "print(img_bin[:,:])"
   ]
  },
  {
   "cell_type": "code",
   "execution_count": 62,
   "id": "apart-purse",
   "metadata": {},
   "outputs": [
    {
     "name": "stdout",
     "output_type": "stream",
     "text": [
      "width 2272\n",
      "height 3280\n"
     ]
    }
   ],
   "source": [
    "h, w = img_bin.shape\n",
    "print('width', w)\n",
    "print('height', h)"
   ]
  },
  {
   "cell_type": "code",
   "execution_count": 51,
   "id": "supposed-probability",
   "metadata": {},
   "outputs": [
    {
     "ename": "TypeError",
     "evalue": "'int' object is not iterable",
     "output_type": "error",
     "traceback": [
      "\u001b[0;31m---------------------------------------------------------------------------\u001b[0m",
      "\u001b[0;31mTypeError\u001b[0m                                 Traceback (most recent call last)",
      "\u001b[0;32m<ipython-input-51-7fae9d59f2d0>\u001b[0m in \u001b[0;36m<module>\u001b[0;34m\u001b[0m\n\u001b[0;32m----> 1\u001b[0;31m \u001b[0;32mfor\u001b[0m \u001b[0mcount\u001b[0m\u001b[0;34m,\u001b[0m \u001b[0mx\u001b[0m\u001b[0;34m,\u001b[0m \u001b[0my\u001b[0m \u001b[0;32min\u001b[0m \u001b[0menumerate\u001b[0m\u001b[0;34m(\u001b[0m\u001b[0mw\u001b[0m\u001b[0;34m,\u001b[0m\u001b[0mh\u001b[0m\u001b[0;34m)\u001b[0m\u001b[0;34m:\u001b[0m\u001b[0;34m\u001b[0m\u001b[0;34m\u001b[0m\u001b[0m\n\u001b[0m\u001b[1;32m      2\u001b[0m     \u001b[0mprint\u001b[0m\u001b[0;34m(\u001b[0m\u001b[0mcount\u001b[0m\u001b[0;34m,\u001b[0m \u001b[0mcount\u001b[0m\u001b[0;34m*\u001b[0m\u001b[0;36m150\u001b[0m\u001b[0;34m+\u001b[0m\u001b[0;36m400\u001b[0m\u001b[0;34m,\u001b[0m \u001b[0;36m400\u001b[0m\u001b[0;34m)\u001b[0m\u001b[0;34m\u001b[0m\u001b[0;34m\u001b[0m\u001b[0m\n",
      "\u001b[0;31mTypeError\u001b[0m: 'int' object is not iterable"
     ]
    }
   ],
   "source": [
    "for i in range"
   ]
  },
  {
   "cell_type": "code",
   "execution_count": null,
   "id": "divine-patch",
   "metadata": {},
   "outputs": [],
   "source": []
  }
 ],
 "metadata": {
  "kernelspec": {
   "display_name": "Python 3",
   "language": "python",
   "name": "python3"
  },
  "language_info": {
   "codemirror_mode": {
    "name": "ipython",
    "version": 3
   },
   "file_extension": ".py",
   "mimetype": "text/x-python",
   "name": "python",
   "nbconvert_exporter": "python",
   "pygments_lexer": "ipython3",
   "version": "3.6.8"
  }
 },
 "nbformat": 4,
 "nbformat_minor": 5
}
