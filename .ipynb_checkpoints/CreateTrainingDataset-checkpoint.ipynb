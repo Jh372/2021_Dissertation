{
 "cells": [
  {
   "cell_type": "code",
   "execution_count": 67,
   "id": "aware-cookie",
   "metadata": {},
   "outputs": [],
   "source": [
    "#convert pdf to png\n",
    "import os\n",
    "from pathlib import Path\n",
    "from pdf2image import convert_from_path\n",
    "import glob"
   ]
  },
  {
   "cell_type": "code",
   "execution_count": 6,
   "id": "engaging-environment",
   "metadata": {},
   "outputs": [],
   "source": [
    "for x in glob.glob('./pdf_file/*.pdf'):\n",
    "    pdf_path = Path(x)\n",
    "    \n",
    "    #convert pdf to png\n",
    "    pages = convert_from_path(str(pdf_path), dpi=300)\n",
    "    \n",
    "    #save image per page\n",
    "    image_dir = Path('./image_file')\n",
    "    for i, page in enumerate(pages):\n",
    "        file_name = pdf_path.stem + '_{:02d}'.format(i + 1) + '.png'\n",
    "        image_path = image_dir / file_name\n",
    "        #save png\n",
    "        page.save(str(image_path), 'PNG')"
   ]
  },
  {
   "cell_type": "code",
   "execution_count": 27,
   "id": "ceramic-geometry",
   "metadata": {
    "scrolled": true
   },
   "outputs": [
    {
     "data": {
      "text/plain": [
       "True"
      ]
     },
     "execution_count": 27,
     "metadata": {},
     "output_type": "execute_result"
    }
   ],
   "source": [
    "#read image\n",
    "img = cv2.imread('./image_file/heft1pg01-15 2021-06-04 08_48_40_12.png',0)\n",
    "\n",
    "#convert grayscale\n",
    "#gray = cv2.cvtColor(img, cv2.COLOR_RGB2GRAY)\n",
    "\n",
    "################################################\n",
    "#set threshold\n",
    "#threshold_value = 150\n",
    "\n",
    "#create array for output\n",
    "#threshold_img =gray.copy()\n",
    "\n",
    "#implement(numpy)\n",
    "#threshold_img[gray < threshold_value] = 0\n",
    "#threshold_img[gray >= threshold_value] = 255\n",
    "#################################################\n",
    "\n",
    "ret,th1 = cv2.threshold(img,0,255,cv2.THRESH_BINARY+cv2.THRESH_OTSU)\n",
    "\n",
    "blur = cv2.GaussianBlur(img,(5,5),0)\n",
    "ret2,th2 = cv2.threshold(blur,0,255,cv2.THRESH_BINARY+cv2.THRESH_OTSU)\n",
    "#output\n",
    "cv2.imwrite('./test/sample2.png', th1)\n",
    "#cv2.imwrite('./test/shade2.png',th2)\n",
    "\n",
    "#print(gray.shape)"
   ]
  },
  {
   "cell_type": "code",
   "execution_count": 40,
   "id": "certain-latex",
   "metadata": {},
   "outputs": [],
   "source": [
    "#convert png to binarisation\n",
    "import cv2\n",
    "import numpy as np\n",
    "\n",
    "for i in range(10):\n",
    "    im1 = cv2.imread('./test/crop/shading'+str(i+1)+'.png')\n",
    "    im_h_np = np.tile(im1,(1,25,1))\n",
    "    cv2.imwrite('./test/crop/m_shading'+str(i+1)+'.png',im_h_np)\n"
   ]
  },
  {
   "cell_type": "code",
   "execution_count": 3,
   "id": "equal-bunny",
   "metadata": {},
   "outputs": [],
   "source": [
    "import cv2\n",
    "import numpy as np\n",
    "\n",
    "for j in range(20):\n",
    "    test = cv2.imread('./test/crop/test'+str(j+1)+'.png')\n",
    "    inv1 = cv2.bitwise_not(test)\n",
    "    gray1 =cv2.cvtColor(inv1, cv2.COLOR_RGB2GRAY)\n",
    "    for k in range(10):\n",
    "        shade = cv2.imread('./test/crop/m_shading'+str(k+1)+'.png')\n",
    "        if (j+1) == 1:\n",
    "            shade = shade[0:140,0:930]\n",
    "        elif (j+1) == 2:\n",
    "            shade = shade[0:140,0:706]\n",
    "        elif (j+1) == 3:\n",
    "            shade = shade[0:140,0:1068]\n",
    "        elif (j+1) == 4:\n",
    "            shade = shade[0:140,0:1068]\n",
    "        elif (j+1) == 5:\n",
    "            shade = shade[0:140,0:1375]\n",
    "        elif (j+1) == 6:\n",
    "            shade = shade[0:140,0:1544]\n",
    "        elif (j+1) == 7:\n",
    "            shade = shade[0:140,0:1605]\n",
    "        elif (j+1) == 8:\n",
    "            shade = shade[0:140,0:1441]\n",
    "        elif (j+1) == 9:\n",
    "            shade = shade[0:140,0:1218]\n",
    "        elif (j+1) == 10:\n",
    "            shade = shade[0:140,0:859]\n",
    "        elif (j+1) == 11:\n",
    "            shade = shade[0:140,0:408]\n",
    "        elif (j+1) == 12:\n",
    "            shade = shade[0:140,0:1434]\n",
    "        elif (j+1) == 13:\n",
    "            shade = shade[0:140,0:1216]\n",
    "        elif (j+1) == 14:\n",
    "            shade = shade[0:140,0:1519]\n",
    "        elif (j+1) == 15:\n",
    "            shade = shade[0:140,0:1621]\n",
    "        elif (j+1) == 16:\n",
    "            shade = shade[0:140,0:493]\n",
    "        elif (j+1) == 17:\n",
    "            shade = shade[0:140,0:662]\n",
    "        elif (j+1) == 18:\n",
    "            shade = shade[0:140,0:578]\n",
    "        elif (j+1) == 19:\n",
    "            shade = shade[0:140,0:1192]\n",
    "        else:\n",
    "            shade = shade[0:140,0:975]\n",
    "        cv2.imwrite('./test/output/data'+str((j*10)+k+1)+'text.png',np.array(test))\n",
    "        cv2.imwrite('./test/output/data'+str((j*10)+k+1)+'shading.png',np.array(shade))\n",
    "#        cv2.imwrite('./test/crop/shadingblock'+str((j*10)+k+1)+'.png',np.array(shade))\n",
    "        inv2 = cv2.bitwise_not(shade)\n",
    "        gray2 =cv2.cvtColor(inv2, cv2.COLOR_RGB2GRAY)\n",
    "        result = cv2.add(gray1,gray2)\n",
    "        result = cv2.bitwise_not(result)\n",
    "#        cv2.imwrite('./test/output/result'+str((j*10)+k+1)+'.png',np.array(result))\n",
    "        cv2.imwrite('./test/output/data'+str((j*10)+k+1)+'combined.png',np.array(result))\n",
    "\n",
    "\n",
    "\n",
    "#img = cv2.imread('./test/test3.png')\n",
    "#inv1 = cv2.bitwise_not(img)\n",
    "#cv2.imwrite('symbol.png',np.array(inv1))\n",
    "\n",
    "#shade = cv2.imread('./test/copyshading1.png')\n",
    "#inv2 = cv2.bitwise_not(shade)\n",
    "##cv2.imwrite('shade.png',np.array(inv2))\n",
    "\n",
    "#gray1 =cv2.cvtColor(inv1, cv2.COLOR_RGB2GRAY)\n",
    "#gray2 =cv2.cvtColor(inv2, cv2.COLOR_RGB2GRAY)\n",
    "#gray2 = gray2[5:132,0:1063]\n",
    "\n",
    "#result = cv2.add(gray1,gray2)\n",
    "#cv2.imwrite('result1.png',np.array(result))\n",
    "#result = cv2.bitwise_not(result)\n",
    "#cv2.imwrite('result.png',np.array(result))"
   ]
  },
  {
   "cell_type": "code",
   "execution_count": null,
   "id": "divine-patch",
   "metadata": {},
   "outputs": [],
   "source": []
  }
 ],
 "metadata": {
  "kernelspec": {
   "display_name": "Python 3",
   "language": "python",
   "name": "python3"
  },
  "language_info": {
   "codemirror_mode": {
    "name": "ipython",
    "version": 3
   },
   "file_extension": ".py",
   "mimetype": "text/x-python",
   "name": "python",
   "nbconvert_exporter": "python",
   "pygments_lexer": "ipython3",
   "version": "3.6.8"
  }
 },
 "nbformat": 4,
 "nbformat_minor": 5
}
