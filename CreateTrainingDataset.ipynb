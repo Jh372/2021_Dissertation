{
 "cells": [
  {
   "cell_type": "code",
   "execution_count": 14,
   "id": "aware-cookie",
   "metadata": {},
   "outputs": [],
   "source": [
    "#import library\n",
    "import os\n",
    "from pathlib import Path\n",
    "from pdf2image import convert_from_path\n",
    "import glob\n",
    "import cv2\n",
    "import numpy as np"
   ]
  },
  {
   "cell_type": "code",
   "execution_count": 6,
   "id": "engaging-environment",
   "metadata": {},
   "outputs": [],
   "source": [
    "#### convert format from PDF into PNG ####\n",
    "os.makedirs('./pdf_file',exist_ok=True) # create directory\n",
    "num=300\n",
    "for x in glob.glob('./pdf_file/*.pdf'):\n",
    "    pdf_path = Path(x)\n",
    "    \n",
    "    #convert pdf to png\n",
    "    pages = convert_from_path(str(pdf_path), dpi=num)\n",
    "    \n",
    "    #save image per page\n",
    "    image_dir = Path('./image_file')\n",
    "    for i, page in enumerate(pages):\n",
    "        file_name = pdf_path.stem + '_{:02d}'.format(i + 1) + '.png'\n",
    "        image_path = image_dir / file_name\n",
    "        #save png\n",
    "        page.save(str(image_path), 'PNG')\n",
    "##########################################"
   ]
  },
  {
   "cell_type": "code",
   "execution_count": 27,
   "id": "ceramic-geometry",
   "metadata": {
    "scrolled": true
   },
   "outputs": [
    {
     "data": {
      "text/plain": [
       "True"
      ]
     },
     "execution_count": 27,
     "metadata": {},
     "output_type": "execute_result"
    }
   ],
   "source": [
    "#### binarisation and Gaussian blur to crop shading pieces and text blocks using this image ####\n",
    "os.makedirs('./test',exist_ok=True) # create directory for artificial images \n",
    "#read image \n",
    "#the final number of the image is 04,05: for cropping text blocks, 10,12: for cropping shading pieces\n",
    "filename ='heft1pg01-15 2021-06-04 08_48_40_04.png'\n",
    "# filename ='heft1pg01-15 2021-06-04 08_48_40_05.png'\n",
    "# filename ='heft1pg01-15 2021-06-04 08_48_40_10.png'\n",
    "# filename ='heft1pg01-15 2021-06-04 08_48_40_12.png'\n",
    "\n",
    "img = cv2.imread('./image_file/'+filename,0)\n",
    "\n",
    "# Otsu method w/o GaussianBlur\n",
    "ret,th1 = cv2.threshold(img,0,255,cv2.THRESH_BINARY+cv2.THRESH_OTSU)\n",
    "# Otsu method with Gaussian Blur\n",
    "blur = cv2.GaussianBlur(img,(5,5),0)\n",
    "ret2,th2 = cv2.threshold(blur,0,255,cv2.THRESH_BINARY+cv2.THRESH_OTSU)\n",
    "#output\n",
    "# cv2.imwrite('./test/sample2.png', th1)\n",
    "cv2.imwrite('./test/text1.png',th2) # heft1pg01-15 2021-06-04 08_48_40_04.png\n",
    "# cv2.imwrite('./test/text2.png',th2) # heft1pg01-15 2021-06-04 08_48_40_05.png\n",
    "# cv2.imwrite('./test/shade1.png',th2) # heft1pg01-15 2021-06-04 08_48_40_10.png\n",
    "# cv2.imwrite('./test/shade2.png',th2) # heft1pg01-15 2021-06-04 08_48_40_12.png\n",
    "##############################################################################################"
   ]
  },
  {
   "cell_type": "code",
   "execution_count": 24,
   "id": "certain-latex",
   "metadata": {},
   "outputs": [],
   "source": [
    "#### superimpose shading blocks into text blocks to create artificial combined images ####\n",
    "savedir = './test'\n",
    "os.makedirs(savedir+'/output',exist_ok=True) # create directory for artificial images \n",
    "\n",
    "for i in range(20):\n",
    "    test = cv2.imread('./test/crop/test'+str(i+1)+'.png')\n",
    "    h_text,w_text =test.shape[:2]\n",
    "    inv1 = cv2.bitwise_not(test)\n",
    "    gray1 =cv2.cvtColor(inv1, cv2.COLOR_RGB2GRAY)\n",
    "    for j in range(10):\n",
    "        shade =  cv2.imread('./test/crop/shading'+str(j+1)+'.png')\n",
    "        h_shade, w_shade = shade.shape[:2]\n",
    "        if w_text%w_shade != 0:\n",
    "            repeat_shade = (w_text/w_shade)+1\n",
    "        else:\n",
    "            repeat_shade = (w_text/w_shade)\n",
    "        # join the same shading pieces together to fit the width of each symbol block\n",
    "        shade_join = np.tile(shade,(1,int(repeat_shade),1))\n",
    "        # crop the shading block into the same width of each symbol block\n",
    "        shade_join = shade_join[0:h_text,0:w_text]\n",
    "\n",
    "        cv2.imwrite('./test/output1/data'+str((i*10)+j+1)+'text.png',np.array(test))\n",
    "        cv2.imwrite('./test/output1/data'+str((i*10)+j+1)+'shading.png',np.array(shade_join))\n",
    "        inv2 = cv2.bitwise_not(shade_join)\n",
    "        gray2 =cv2.cvtColor(inv2, cv2.COLOR_RGB2GRAY)\n",
    "        result = cv2.add(gray1,gray2)\n",
    "        result = cv2.bitwise_not(result)\n",
    "        cv2.imwrite('./test/output1/data'+str((i*10)+j+1)+'combined.png',np.array(result))\n",
    "########################################################################################"
   ]
  },
  {
   "cell_type": "code",
   "execution_count": null,
   "id": "42b0436a",
   "metadata": {},
   "outputs": [],
   "source": []
  }
 ],
 "metadata": {
  "kernelspec": {
   "display_name": "Python 3 (ipykernel)",
   "language": "python",
   "name": "python3"
  },
  "language_info": {
   "codemirror_mode": {
    "name": "ipython",
    "version": 3
   },
   "file_extension": ".py",
   "mimetype": "text/x-python",
   "name": "python",
   "nbconvert_exporter": "python",
   "pygments_lexer": "ipython3",
   "version": "3.8.10"
  }
 },
 "nbformat": 4,
 "nbformat_minor": 5
}
