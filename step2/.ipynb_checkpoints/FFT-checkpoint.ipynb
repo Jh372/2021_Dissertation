{
 "cells": [
  {
   "cell_type": "code",
   "execution_count": 1,
   "id": "martial-introduction",
   "metadata": {},
   "outputs": [],
   "source": [
    "import numpy as np\n",
    "import cv2\n",
    "from matplotlib import pyplot as plt\n",
    "import pandas as pd"
   ]
  },
  {
   "cell_type": "code",
   "execution_count": 2,
   "id": "young-recruitment",
   "metadata": {},
   "outputs": [],
   "source": [
    "def addframe(num, grayvalue, img): # for FFT calculation\n",
    "    # add pixel\n",
    "    num_insert = int((num-1)/2)\n",
    "    # create block\n",
    "    bk_tb = np.zeros((num_insert,img.shape[1]),np.uint8)\n",
    "    bk_lr = np.zeros((img.shape[0]+(num_insert*2),num_insert),np.uint8)\n",
    "    # decide gray value\n",
    "    bk_tb[:,:] = grayvalue # white\n",
    "    bk_lr[:,:] = grayvalue # white\n",
    "    # insert pixel (top, bottom)\n",
    "    array = np.insert(img, 0, bk_tb, axis=0)\n",
    "    array = np.insert(array, array.shape[0], bk_tb, axis=0)\n",
    "\n",
    "    # insert pixel (left, right)\n",
    "    array = np.insert(array, [0], bk_lr, axis=1)\n",
    "    array = np.insert(array, [array.shape[1]], bk_lr, axis=1)\n",
    "    \n",
    "    return np.array(array)\n",
    "\n",
    "    # # the number of dimension applying FFT\n",
    "    # N = 3 #(N * N)\n",
    "    # # output(test)\n",
    "    # img_combined_out = './sample/data1combined_ex.png'\n",
    "    # cv2.imwrite(img_combined_out, np.array(array))\n",
    "def FFT(img, num):\n",
    "    amp = []\n",
    "    phase = []\n",
    "    num_insert = int((num-1)/2)\n",
    "    for  y in range(num_insert,img.shape[0]-num_insert):\n",
    "        for x in range(num_insert,img.shape[1]-num_insert):\n",
    "            img1 = img[(y-num_insert):(y+num_insert+1),(x-num_insert):(x+num_insert+1)]\n",
    "            fimg = np.fft.fft2(img1)\n",
    "#             fshift = np.fft.fftshift(fimg)\n",
    "            a = np.abs(fimg)\n",
    "            p = np.angle(fimg)\n",
    "#             a = np.abs(fshift)\n",
    "#             p = np.angle(fshift)\n",
    "            amp.append(a[num_insert, num_insert])\n",
    "            phase.append(p[num_insert, num_insert])\n",
    "    return amp, phase\n",
    "            "
   ]
  },
  {
   "cell_type": "code",
   "execution_count": 25,
   "id": "motivated-candy",
   "metadata": {},
   "outputs": [
    {
     "name": "stdout",
     "output_type": "stream",
     "text": [
      "elapsed time: 1138.885369301 [sec]\n"
     ]
    }
   ],
   "source": [
    "tic()\n",
    "import os\n",
    "os.makedirs('./output9_csv',exist_ok=True) # create directory\n",
    "number_of_data = 200\n",
    "for i in range(number_of_data):\n",
    "    # load image\n",
    "    img_shade = cv2.imread('../test/output/data'+str(i+1)+'shading.png')\n",
    "    img_text = cv2.imread('../test/output/data'+str(i+1)+'text.png')\n",
    "    img_combined = cv2.imread('../test/output/data'+str(i+1)+'combined.png')\n",
    "#     img_shade = cv2.imread('./sample/data1shading.png')\n",
    "#     img_text = cv2.imread('./sample/data1text.png')\n",
    "#     img_combined = cv2.imread('./sample/data1combined.png')\n",
    "\n",
    "    # get information per pixel\n",
    "    gray_shade = cv2.cvtColor(img_shade,cv2.COLOR_RGB2GRAY)\n",
    "    gray_text = cv2.cvtColor(img_text,cv2.COLOR_RGB2GRAY)\n",
    "    gray_combined = cv2.cvtColor(img_combined,cv2.COLOR_RGB2GRAY)\n",
    "\n",
    "    # assign the area applying FFT\n",
    "    num = 9 # num * num\n",
    "\n",
    "    # add frame for FFT\n",
    "    gray_combined_ex = addframe(num,255,gray_combined)\n",
    "    amp,phase = FFT(gray_combined_ex, num)\n",
    "\n",
    "    # get image size\n",
    "    height, width = gray_combined.shape[:2]\n",
    "\n",
    "    # initialise\n",
    "    data =[]\n",
    "    for y in range(height):\n",
    "        for x in range(width):\n",
    "            if gray_combined[y,x] == 255:\n",
    "                data.append([y,x,gray_combined[y,x],amp[(y*width)+x],phase[(y*width)+x],0])\n",
    "            elif (gray_combined[y,x] == 0) & (gray_combined[y,x] == gray_shade[y,x]) & (gray_combined[y,x] != gray_text[y,x]):\n",
    "                data.append([y,x,gray_combined[y,x],amp[(y*width)+x],phase[(y*width)+x],1])\n",
    "            elif (gray_combined[y,x] == 0) & (gray_combined[y,x] != gray_shade[y,x]) & (gray_combined[y,x] == gray_text[y,x]):\n",
    "                data.append([y,x,gray_combined[y,x],amp[(y*width)+x],phase[(y*width)+x],2])\n",
    "            else:\n",
    "                data.append([y,x,gray_combined[y,x],amp[(y*width)+x],phase[(y*width)+x],3])\n",
    "    df = pd.DataFrame(data, columns =['y', 'x','gray_value','amp','phase', 'label'])\n",
    "#     df.to_excel('./output_xlsx/data'+str(i+1)+'.xlsx', index=None)\n",
    "    df.to_csv('./output9_csv/data'+str(i+1)+'.csv', index=False,)\n",
    "toc()\n",
    "\n"
   ]
  },
  {
   "cell_type": "code",
   "execution_count": 3,
   "id": "willing-composer",
   "metadata": {},
   "outputs": [],
   "source": [
    "# for counting time\n",
    "import time\n",
    "\n",
    "def tic():\n",
    "    #require  to import time\n",
    "    global start_time_tictoc\n",
    "    start_time_tictoc = time.time()\n",
    "\n",
    "\n",
    "def toc(tag=\"elapsed time\"):\n",
    "    if \"start_time_tictoc\" in globals():\n",
    "        print(\"{}: {:.9f} [sec]\".format(tag, time.time() - start_time_tictoc))\n",
    "    else:\n",
    "        print(\"tic has not been called\")\n"
   ]
  },
  {
   "cell_type": "code",
   "execution_count": 3,
   "id": "experienced-price",
   "metadata": {},
   "outputs": [],
   "source": [
    "#test\n",
    "num = 5\n",
    "img = cv2.imread('../test/output/data1combined.png',0)\n",
    "img_ex = addframe(num,255,img)\n",
    "amp = []\n",
    "phase = []\n",
    "num_insert = 2 #int((num-1)/2)\n",
    "for  y in range(num_insert,img_ex.shape[0]-num_insert):\n",
    "    for x in range(num_insert,img_ex.shape[1]-num_insert):\n",
    "        img1 = img_ex[(y-num_insert):(y+num_insert+1),(x-num_insert):(x+num_insert+1)]\n",
    "        fimg = np.fft.fft2(img1)\n",
    "        #fshift = np.fft.fftshift(fimg)\n",
    "        a = np.abs(fimg)\n",
    "        p = np.angle(fimg)\n",
    "#         print(y,x)\n",
    "#         print(fimg)\n",
    "#         print(a)\n",
    "#         amp.append(a[num_insert, num_insert])\n",
    "#         phase.append(p[num_insert, num_insert])\n"
   ]
  },
  {
   "cell_type": "code",
   "execution_count": null,
   "id": "residential-recording",
   "metadata": {},
   "outputs": [],
   "source": []
  }
 ],
 "metadata": {
  "kernelspec": {
   "display_name": "Python 3",
   "language": "python",
   "name": "python3"
  },
  "language_info": {
   "codemirror_mode": {
    "name": "ipython",
    "version": 3
   },
   "file_extension": ".py",
   "mimetype": "text/x-python",
   "name": "python",
   "nbconvert_exporter": "python",
   "pygments_lexer": "ipython3",
   "version": "3.6.8"
  }
 },
 "nbformat": 4,
 "nbformat_minor": 5
}
