{
 "cells": [
  {
   "cell_type": "code",
   "execution_count": 2,
   "id": "martial-introduction",
   "metadata": {},
   "outputs": [],
   "source": [
    "import numpy as np\n",
    "import cv2\n",
    "from matplotlib import pyplot as plt\n",
    "import pandas as pd"
   ]
  },
  {
   "cell_type": "code",
   "execution_count": null,
   "id": "running-spectacular",
   "metadata": {},
   "outputs": [],
   "source": [
    "import time\n",
    "\n",
    "def tic():\n",
    "    #require  to import time\n",
    "    global start_time_tictoc\n",
    "    start_time_tictoc = time.time()\n",
    "\n",
    "\n",
    "def toc(tag=\"elapsed time\"):\n",
    "    if \"start_time_tictoc\" in globals():\n",
    "        print(\"{}: {:.9f} [sec]\".format(tag, time.time() - start_time_tictoc))\n",
    "    else:\n",
    "        print(\"tic has not been called\")\n"
   ]
  },
  {
   "cell_type": "code",
   "execution_count": 13,
   "id": "motivated-candy",
   "metadata": {},
   "outputs": [
    {
     "name": "stdout",
     "output_type": "stream",
     "text": [
      "elapsed time: 0.673585653 [sec]\n"
     ]
    }
   ],
   "source": [
    "tic()\n",
    "# load image\n",
    "img_shade = cv2.imread('./sample/data1shading.png')\n",
    "img_text = cv2.imread('./sample/data1text.png')\n",
    "img_combined = cv2.imread('./sample/data1combined.png')\n",
    "\n",
    "# get image size\n",
    "height, width, channels = img_shade.shape[:3]\n",
    "\n",
    "# get information per pixel\n",
    "gray_shade = cv2.cvtColor(img_shade,cv2.COLOR_RGB2GRAY)\n",
    "gray_text = cv2.cvtColor(img_text,cv2.COLOR_RGB2GRAY)\n",
    "gray_combined = cv2.cvtColor(img_combined,cv2.COLOR_RGB2GRAY)\n",
    "\n",
    "# initialise\n",
    "data =[]\n",
    "for y in range(height):\n",
    "    for x in range(width):\n",
    "        if gray_combined[y,x] == 255:\n",
    "            data.append([y,x,gray_combined[y,x],0])\n",
    "        elif (gray_combined[y,x] == 0) & (gray_combined[y,x] == gray_shade[y,x]) & (gray_combined[y,x] != gray_text[y,x]):\n",
    "            data.append([y,x,gray_combined[y,x],1])\n",
    "        elif (gray_combined[y,x] == 0) & (gray_combined[y,x] != gray_shade[y,x]) & (gray_combined[y,x] == gray_text[y,x]):\n",
    "            data.append([y,x,gray_combined[y,x],2])\n",
    "        else:\n",
    "            data.append([y,x,gray_combined[y,x],3])\n",
    "toc()\n",
    "df = pd.DataFrame(data, columns =['y', 'x','gray_value', 'label'])\n",
    "df.to_excel('./sample/output.xlsx', index=None)\n",
    "\n"
   ]
  },
  {
   "cell_type": "code",
   "execution_count": null,
   "id": "specific-guarantee",
   "metadata": {},
   "outputs": [],
   "source": [
    "fft =[]\n",
    "for y in range(height):\n",
    "    for x in range(width):\n",
    "        if"
   ]
  },
  {
   "cell_type": "code",
   "execution_count": null,
   "id": "negative-arizona",
   "metadata": {},
   "outputs": [],
   "source": [
    "#### No need to use ####\n",
    "#df = pd.DataFrame(index = None, columns =['y', 'x','gray_value', 'label'])\n",
    "#            df.loc[width*y+x] = [y, x, gray_combined[y,x], 0]\n",
    "#            df.loc[width*y+x] = [y, x, gray_combined[y,x], 1]\n",
    "#            df.loc[width*y+x] = [y, x, gray_combined[y,x], 2]\n",
    "#            df.loc[width*y+x] = [y, x, gray_combined[y,x], 1]\n",
    "#np.savetxt('./sample/output.csv',data, delimiter =',', fmt='% s')\n"
   ]
  },
  {
   "cell_type": "code",
   "execution_count": 6,
   "id": "handy-doubt",
   "metadata": {
    "scrolled": true
   },
   "outputs": [
    {
     "name": "stdout",
     "output_type": "stream",
     "text": [
      "(array([ 33,  33,  33, ..., 117, 117, 117]), array([ 73,  74,  75, ..., 106, 107, 108]))\n",
      "(array([  0,   0,   0, ..., 139, 139, 139]), array([  0,   1,   2, ..., 127, 128, 129]))\n",
      "number of labels: 2\n"
     ]
    }
   ],
   "source": [
    "# labeling\n",
    "nLabels, labelImages = cv2.connectedComponents(gray)\n",
    "for i in range(nLabels):\n",
    "    ls = np.where(labelImages == i)\n",
    "    print(ls)\n",
    "print('number of labels:', nLabels)\n",
    "#fig, ax = plt.subplots(figsize=(7, 7))\n",
    "#ax.imshow(labelImages)\n",
    "\n",
    "#plt.show()"
   ]
  },
  {
   "cell_type": "code",
   "execution_count": 9,
   "id": "returning-agency",
   "metadata": {
    "scrolled": true
   },
   "outputs": [],
   "source": [
    "#img = cv2.imread('./sample/data1combined.png')\n",
    "img = cv2.imread('./sample/fft.png')\n",
    "gray = cv2.cvtColor(img,cv2.COLOR_RGB2GRAY)\n",
    "np.savetxt('./sample/test.csv',gray, delimiter =',', fmt='% s')\n",
    "gray = gray[0:140,0:130]\n",
    "# labeling\n",
    "nLabels, labelImages = cv2.connectedComponents(gray)\n",
    "for i in range(nLabels):\n",
    "    ls = np.where(labelImages == i)\n",
    "#    print(ls)\n",
    "#print('number of labels:', nLabels)\n",
    "#fig, ax = plt.subplots(figsize=(7, 7))\n",
    "#ax.imshow(labelImages)\n",
    "\n",
    "#plt.show()"
   ]
  },
  {
   "cell_type": "code",
   "execution_count": 15,
   "id": "headed-greek",
   "metadata": {},
   "outputs": [
    {
     "name": "stdout",
     "output_type": "stream",
     "text": [
      "[[2295.+0.j    0.+0.j    0.+0.j]\n",
      " [   0.+0.j    0.+0.j    0.+0.j]\n",
      " [   0.+0.j    0.+0.j    0.+0.j]]\n",
      "[[2295.    0.    0.]\n",
      " [   0.    0.    0.]\n",
      " [   0.    0.    0.]]\n",
      "[[0. 0. 0.]\n",
      " [0. 0. 0.]\n",
      " [0. 0. 0.]]\n"
     ]
    },
    {
     "name": "stderr",
     "output_type": "stream",
     "text": [
      "/cs/home/jh372/CS5014/python/lib64/python3.6/site-packages/ipykernel_launcher.py:13: RuntimeWarning: divide by zero encountered in log\n",
      "  del sys.path[0]\n",
      "/cs/home/jh372/CS5014/python/lib64/python3.6/site-packages/ipykernel_launcher.py:14: RuntimeWarning: divide by zero encountered in log\n",
      "  \n"
     ]
    }
   ],
   "source": [
    "img = cv2.imread('./sample/old/shading1.png')\n",
    "gray = cv2.cvtColor(img,cv2.COLOR_RGB2GRAY)\n",
    "#np.savetxt('./sample/shadingvalue.csv',gray, delimiter =',', fmt='% s')\n",
    "#width,height = img.shape\n",
    "gray = gray[0:3,0:3]\n",
    "#print(gray)\n",
    "fimg = np.fft.fft2(gray)\n",
    "print(fimg)\n",
    "#fimg_fft = np.uint8(fimg.real)\n",
    "#fshift = np.fft.fftshift(fimg)\n",
    "amp = np.abs(fimg)\n",
    "phase = np.angle(fimg)\n",
    "magnitude_spectrum_nonshift = 20*np.log(np.abs(fimg))\n",
    "magnitude_spectrum = 20*np.log(np.abs(fshift))\n",
    "print(amp)\n",
    "print(phase)\n",
    "#np.savetxt('./sample/shadingFFTvalue_nonshift.csv',magnitude_spectrum_nonshift, delimiter =',', fmt='% s')\n",
    "#cv2.imwrite('./sample/fft_nonshift.png',magnitude_spectrum_nonshift)\n",
    "#cv2.imwrite('./sample/fft.png',magnitude_spectrum)\n",
    "#print(magnitude_spectrum_nonshift)\n",
    "#print(magnitude_spectrum)\n",
    "#fimg = np.fft.fftshift(fimg)\n",
    "#print(fimg)\n",
    "#d2 = magnitude_spectrum - magnitude_spectrum.mean(axis=0)\n",
    "#cov = np.einsum('ij,ik ->jk', d2, d2)\n",
    "#from sklearn.decomposition import PCA\n",
    "#m = PCA(n_components=2).fit(magnitude_spectrum)\n",
    "#print('components\\n', m.components_)\n",
    "#W, v = np.linalg.eig(cov)\n",
    "#print('eigenvector\\n', v)\n",
    "#print('eigenvalue\\n', W)\n"
   ]
  },
  {
   "cell_type": "code",
   "execution_count": 8,
   "id": "indonesian-render",
   "metadata": {},
   "outputs": [
    {
     "name": "stdout",
     "output_type": "stream",
     "text": [
      "[[255]]\n",
      "[[110.8252709]]\n"
     ]
    }
   ],
   "source": [
    "img = cv2.imread('./sample/data1combined.png')\n",
    "gray = cv2.cvtColor(img,cv2.COLOR_RGB2GRAY)\n",
    "#gray = gray[35:37, 21:24]\n",
    "gray = gray[0:1, 0:1]\n",
    "print(gray)\n",
    "#np.savetxt('./sample/combinedvalue.csv',gray, delimiter =',', fmt='% s')\n",
    "#print(gray)\n",
    "fimg = np.fft.fft2(gray)\n",
    "fshift = np.fft.fftshift(fimg)\n",
    "magnitude_spectrum_nonshift = 20*np.log(np.abs(fimg))\n",
    "magnitude_spectrum = 20*np.log(np.abs(fshift))\n",
    "#print(fimg)\n",
    "#print(magnitude_spectrum_nonshift)\n",
    "print(magnitude_spectrum)\n",
    "#np.savetxt('./sample/combinedFFTvalue_sample.csv',magnitude_spectrum, delimiter =',', fmt='% s')\n",
    "#cv2.imwrite('./sample/fft_nonshift.png',magnitude_spectrum_nonshift)\n",
    "#cv2.imwrite('./sample/fft_combined.png',magnitude_spectrum)"
   ]
  },
  {
   "cell_type": "code",
   "execution_count": 29,
   "id": "secondary-drive",
   "metadata": {},
   "outputs": [],
   "source": [
    "img = cv2.imread('./sample/data1combined.png')\n",
    "img = img[0:140,0:130]\n",
    "gray = cv2.cvtColor(img,cv2.COLOR_RGB2GRAY)\n",
    "#np.savetxt('./sample/combinedvalue.csv',gray, delimiter =',', fmt='% s')\n",
    "fimg = np.fft.fft2(gray)\n",
    "fshift = np.fft.fftshift(fimg)\n",
    "magnitude_spectrum_nonshift = 20*np.log(np.abs(fimg))\n",
    "magnitude_spectrum = 20*np.log(np.abs(fshift))\n",
    "np.savetxt('./sample/combinedFFTvalue.csv',magnitude_spectrum, delimiter =',', fmt='% s')\n",
    "#cv2.imwrite('./sample/fft_nonshift.png',magnitude_spectrum_nonshift)\n",
    "#cv2.imwrite('./sample/fft_combined.png',magnitude_spectrum)"
   ]
  },
  {
   "cell_type": "code",
   "execution_count": 31,
   "id": "frank-leather",
   "metadata": {},
   "outputs": [
    {
     "data": {
      "text/plain": [
       "True"
      ]
     },
     "execution_count": 31,
     "metadata": {},
     "output_type": "execute_result"
    }
   ],
   "source": [
    "img = cv2.imread('./sample/data1text.png')\n",
    "img = img[0:140,0:130]\n",
    "gray = cv2.cvtColor(img,cv2.COLOR_RGB2GRAY)\n",
    "#np.savetxt('./sample/textvalue.csv',gray, delimiter =',', fmt='% s')\n",
    "fimg = np.fft.fft2(gray)\n",
    "fshift = np.fft.fftshift(fimg)\n",
    "#magnitude_spectrum_nonshift = 20*np.log(np.abs(fimg))\n",
    "magnitude_spectrum = 20*np.log(np.abs(fshift))\n",
    "np.savetxt('./sample/textFFTvalue.csv',magnitude_spectrum, delimiter =',', fmt='% s')\n",
    "#cv2.imwrite('./sample/fft_nonshift.png',magnitude_spectrum_nonshift)\n",
    "cv2.imwrite('./sample/fft_text.png',magnitude_spectrum)"
   ]
  },
  {
   "cell_type": "code",
   "execution_count": 15,
   "id": "vietnamese-button",
   "metadata": {},
   "outputs": [
    {
     "data": {
      "text/plain": [
       "True"
      ]
     },
     "execution_count": 15,
     "metadata": {},
     "output_type": "execute_result"
    }
   ],
   "source": [
    "img = cv2.imread('./data1shading.png')\n",
    "gray = cv2.cvtColor(img,cv2.COLOR_RGB2GRAY)\n",
    "fimg = np.fft.fft2(gray)\n",
    "fshift = np.fft.fftshift(fimg)\n",
    "magnitude_spectrum_nonshift = 20*np.log(np.abs(fimg))\n",
    "magnitude_spectrum = 20*np.log(np.abs(fshift))\n",
    "#cv2.imwrite('./fft_nonshift.png',magnitude_spectrum_nonshift)\n",
    "cv2.imwrite('./fft.png',magnitude_spectrum)\n",
    "\n",
    "img1 = cv2.imread('./data1text.png')\n",
    "gray1 = cv2.cvtColor(img1,cv2.COLOR_RGB2GRAY)\n",
    "fimg1 = np.fft.fft2(gray1)\n",
    "fshift1 = np.fft.fftshift(fimg1)\n",
    "magnitude_spectrum_nonshift1 = 20*np.log(np.abs(fimg1))\n",
    "magnitude_spectrum1 = 20*np.log(np.abs(fshift1))\n",
    "#cv2.imwrite('./fft_nonshift.png',magnitude_spectrum_nonshift)\n",
    "cv2.imwrite('./fft1.png',magnitude_spectrum1)\n",
    "\n",
    "img2 = cv2.imread('./data1combined.png')\n",
    "gray2 = cv2.cvtColor(img2,cv2.COLOR_RGB2GRAY)\n",
    "fimg2 = np.fft.fft2(gray2)\n",
    "fshift2 = np.fft.fftshift(fimg2)\n",
    "magnitude_spectrum_nonshift2 = 20*np.log(np.abs(fimg2))\n",
    "magnitude_spectrum2 = 20*np.log(np.abs(fshift2))\n",
    "#cv2.imwrite('./fft_nonshift.png',magnitude_spectrum_nonshift)\n",
    "cv2.imwrite('./fft2.png',magnitude_spectrum2)\n"
   ]
  }
 ],
 "metadata": {
  "kernelspec": {
   "display_name": "Python 3",
   "language": "python",
   "name": "python3"
  },
  "language_info": {
   "codemirror_mode": {
    "name": "ipython",
    "version": 3
   },
   "file_extension": ".py",
   "mimetype": "text/x-python",
   "name": "python",
   "nbconvert_exporter": "python",
   "pygments_lexer": "ipython3",
   "version": "3.6.8"
  }
 },
 "nbformat": 4,
 "nbformat_minor": 5
}
